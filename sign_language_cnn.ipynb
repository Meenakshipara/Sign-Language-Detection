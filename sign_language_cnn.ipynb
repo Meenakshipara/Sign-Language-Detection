{
  "metadata": {
    "kernelspec": {
      "language": "python",
      "display_name": "Python 3",
      "name": "python3"
    },
    "language_info": {
      "name": "python",
      "version": "3.7.10",
      "mimetype": "text/x-python",
      "codemirror_mode": {
        "name": "ipython",
        "version": 3
      },
      "pygments_lexer": "ipython3",
      "nbconvert_exporter": "python",
      "file_extension": ".py"
    },
    "colab": {
      "provenance": []
    }
  },
  "nbformat_minor": 0,
  "nbformat": 4,
  "cells": [
    {
      "cell_type": "markdown",
      "source": [
        "# Sign Language Classification"
      ],
      "metadata": {
        "id": "L8oa1U_L5Vjv"
      }
    },
    {
      "cell_type": "code",
      "source": [
        "import os\n",
        "import numpy as np\n",
        "import pandas as pd\n",
        "import matplotlib.pyplot as plt\n",
        "import seaborn as sns\n",
        "\n",
        "import tensorflow as tf\n",
        "import keras\n",
        "from keras.models import Sequential\n",
        "from keras.layers import Dense, Conv2D , MaxPool2D , Flatten , Dropout , BatchNormalization\n",
        "from keras.preprocessing.image import ImageDataGenerator\n",
        "from keras.callbacks import ReduceLROnPlateau\n",
        "\n",
        "from sklearn.preprocessing import LabelBinarizer\n",
        "from sklearn.model_selection import train_test_split\n",
        "from sklearn.metrics import classification_report,confusion_matrix\n"
      ],
      "metadata": {
        "execution": {
          "iopub.status.busy": "2021-11-27T18:15:08.508496Z",
          "iopub.execute_input": "2021-11-27T18:15:08.508900Z",
          "iopub.status.idle": "2021-11-27T18:15:15.870432Z",
          "shell.execute_reply.started": "2021-11-27T18:15:08.508809Z",
          "shell.execute_reply": "2021-11-27T18:15:15.869462Z"
        },
        "trusted": true,
        "id": "OiUDNAnM5Vj0"
      },
      "execution_count": null,
      "outputs": []
    },
    {
      "cell_type": "code",
      "source": [
        "from google.colab import drive\n",
        "drive.mount('/content/drive')"
      ],
      "metadata": {
        "colab": {
          "base_uri": "https://localhost:8080/"
        },
        "id": "E7mqP_UE5kRG",
        "outputId": "feb99498-39d9-4699-cd76-afdf6032fa6f"
      },
      "execution_count": null,
      "outputs": [
        {
          "output_type": "stream",
          "name": "stdout",
          "text": [
            "Mounted at /content/drive\n"
          ]
        }
      ]
    },
    {
      "cell_type": "code",
      "source": [
        "train_df = pd.read_csv('/content/drive/MyDrive/Sign_language_dataset/archive/sign_mnist_train.csv')\n",
        "test_df = pd.read_csv('/content/drive/MyDrive/Sign_language_dataset/archive/sign_mnist_test.csv')"
      ],
      "metadata": {
        "execution": {
          "iopub.status.busy": "2021-11-27T18:16:48.331062Z",
          "iopub.execute_input": "2021-11-27T18:16:48.331361Z",
          "iopub.status.idle": "2021-11-27T18:16:53.457436Z",
          "shell.execute_reply.started": "2021-11-27T18:16:48.331329Z",
          "shell.execute_reply": "2021-11-27T18:16:53.456486Z"
        },
        "trusted": true,
        "id": "xMhcBZfj5Vj1"
      },
      "execution_count": null,
      "outputs": []
    },
    {
      "cell_type": "code",
      "source": [
        "y_train = train_df['label']\n",
        "y_test = test_df['label']\n",
        "del train_df['label']\n",
        "del test_df['label']"
      ],
      "metadata": {
        "execution": {
          "iopub.status.busy": "2021-11-27T18:16:53.458887Z",
          "iopub.execute_input": "2021-11-27T18:16:53.459144Z",
          "iopub.status.idle": "2021-11-27T18:16:53.481620Z",
          "shell.execute_reply.started": "2021-11-27T18:16:53.459112Z",
          "shell.execute_reply": "2021-11-27T18:16:53.480631Z"
        },
        "trusted": true,
        "id": "JNiY-d6Y5Vj2"
      },
      "execution_count": null,
      "outputs": []
    },
    {
      "cell_type": "code",
      "source": [
        "from sklearn.preprocessing import LabelBinarizer\n",
        "label_binarizer = LabelBinarizer()\n",
        "y_train = label_binarizer.fit_transform(y_train)\n",
        "y_test = label_binarizer.fit_transform(y_test)"
      ],
      "metadata": {
        "execution": {
          "iopub.status.busy": "2021-11-27T18:17:00.466447Z",
          "iopub.execute_input": "2021-11-27T18:17:00.466767Z",
          "iopub.status.idle": "2021-11-27T18:17:00.656465Z",
          "shell.execute_reply.started": "2021-11-27T18:17:00.466736Z",
          "shell.execute_reply": "2021-11-27T18:17:00.655791Z"
        },
        "trusted": true,
        "id": "m49mZe3S5Vj2"
      },
      "execution_count": null,
      "outputs": []
    },
    {
      "cell_type": "code",
      "source": [
        "x_train = train_df.values\n",
        "x_test = test_df.values\n",
        "x_train = x_train / 255\n",
        "x_test = x_test / 255\n",
        "x_train = x_train.reshape(-1,28,28,1)\n",
        "x_test = x_test.reshape(-1,28,28,1)"
      ],
      "metadata": {
        "execution": {
          "iopub.status.busy": "2021-11-27T18:17:02.594658Z",
          "iopub.execute_input": "2021-11-27T18:17:02.594928Z",
          "iopub.status.idle": "2021-11-27T18:17:02.869343Z",
          "shell.execute_reply.started": "2021-11-27T18:17:02.594900Z",
          "shell.execute_reply": "2021-11-27T18:17:02.868553Z"
        },
        "trusted": true,
        "id": "L3ZCWPpP5Vj2"
      },
      "execution_count": null,
      "outputs": []
    },
    {
      "cell_type": "code",
      "source": [
        "f, ax = plt.subplots(2,5)\n",
        "f.set_size_inches(10, 10)\n",
        "k = 0\n",
        "for i in range(2):\n",
        "    for j in range(5):\n",
        "        ax[i,j].imshow(x_train[k].reshape(28, 28) , cmap = \"gray\")\n",
        "        k += 1\n",
        "    plt.tight_layout()"
      ],
      "metadata": {
        "execution": {
          "iopub.status.busy": "2021-11-27T18:17:06.166457Z",
          "iopub.execute_input": "2021-11-27T18:17:06.166887Z",
          "iopub.status.idle": "2021-11-27T18:17:07.549342Z",
          "shell.execute_reply.started": "2021-11-27T18:17:06.166856Z",
          "shell.execute_reply": "2021-11-27T18:17:07.548487Z"
        },
        "trusted": true,
        "colab": {
          "base_uri": "https://localhost:8080/",
          "height": 541
        },
        "id": "dC9uQwhM5Vj3",
        "outputId": "b32a377b-6260-47e9-e8a5-8b146f29bf1a"
      },
      "execution_count": null,
      "outputs": [
        {
          "output_type": "display_data",
          "data": {
            "text/plain": [
              "<Figure size 1000x1000 with 10 Axes>"
            ],
            "image/png": "[encoded data removed]"
          },
          "metadata": {}
        }
      ]
    },
    {
      "cell_type": "markdown",
      "source": [
        "# Building a Convolutional Neural Network"
      ],
      "metadata": {
        "id": "bGn0Yk_b5Vj3"
      }
    },
    {
      "cell_type": "markdown",
      "source": [
        "### 1. Building CNN architecture"
      ],
      "metadata": {
        "id": "r8uEWy_u5Vj3"
      }
    },
    {
      "cell_type": "code",
      "source": [
        "model = Sequential()\n",
        "model.add(Conv2D(64, (3,3), strides=1, padding='same', activation='relu', input_shape=(28,28,1)))\n",
        "model.add(BatchNormalization())\n",
        "model.add(Flatten())\n",
        "model.add(Dense(units = 512 , activation = 'relu'))\n",
        "model.add(Dense(units = 24 , activation = 'softmax'))\n",
        "model.compile(optimizer = 'adam' , loss = 'categorical_crossentropy' , metrics = ['accuracy'])"
      ],
      "metadata": {
        "execution": {
          "iopub.status.busy": "2021-11-27T18:17:15.364132Z",
          "iopub.execute_input": "2021-11-27T18:17:15.364736Z",
          "iopub.status.idle": "2021-11-27T18:17:15.552358Z",
          "shell.execute_reply.started": "2021-11-27T18:17:15.364697Z",
          "shell.execute_reply": "2021-11-27T18:17:15.551219Z"
        },
        "trusted": true,
        "id": "YUYplBcj5Vj3"
      },
      "execution_count": null,
      "outputs": []
    },
    {
      "cell_type": "code",
      "source": [
        "model.summary()"
      ],
      "metadata": {
        "execution": {
          "iopub.status.busy": "2021-11-27T18:17:18.109440Z",
          "iopub.execute_input": "2021-11-27T18:17:18.109768Z",
          "iopub.status.idle": "2021-11-27T18:17:18.120252Z",
          "shell.execute_reply.started": "2021-11-27T18:17:18.109733Z",
          "shell.execute_reply": "2021-11-27T18:17:18.119295Z"
        },
        "trusted": true,
        "colab": {
          "base_uri": "https://localhost:8080/"
        },
        "id": "tl3uL2MS5Vj3",
        "outputId": "1c7aeaf7-f410-4a3e-e3f7-8a3da30229bc"
      },
      "execution_count": null,
      "outputs": [
        {
          "output_type": "stream",
          "name": "stdout",
          "text": [
            "Model: \"sequential\"\n",
            "_________________________________________________________________\n",
            " Layer (type)                Output Shape              Param #   \n",
            "=================================================================\n",
            " conv2d (Conv2D)             (None, 28, 28, 64)        640       \n",
            "                                                                 \n",
            " batch_normalization (Batch  (None, 28, 28, 64)        256       \n",
            " Normalization)                                                  \n",
            "                                                                 \n",
            " flatten (Flatten)           (None, 50176)             0         \n",
            "                                                                 \n",
            " dense (Dense)               (None, 512)               25690624  \n",
            "                                                                 \n",
            " dense_1 (Dense)             (None, 24)                12312     \n",
            "                                                                 \n",
            "=================================================================\n",
            "Total params: 25703832 (98.05 MB)\n",
            "Trainable params: 25703704 (98.05 MB)\n",
            "Non-trainable params: 128 (512.00 Byte)\n",
            "_________________________________________________________________\n"
          ]
        }
      ]
    },
    {
      "cell_type": "code",
      "source": [
        "\n",
        "learning_rate_reduction = ReduceLROnPlateau(monitor='val_accuracy',\n",
        "                                            patience = 2,\n",
        "                                            verbose=1,\n",
        "                                            factor=0.5,\n",
        "                                            min_lr=0.00001)"
      ],
      "metadata": {
        "execution": {
          "iopub.status.busy": "2021-11-27T18:17:20.650566Z",
          "iopub.execute_input": "2021-11-27T18:17:20.650864Z",
          "iopub.status.idle": "2021-11-27T18:17:20.657482Z",
          "shell.execute_reply.started": "2021-11-27T18:17:20.650830Z",
          "shell.execute_reply": "2021-11-27T18:17:20.656742Z"
        },
        "trusted": true,
        "id": "LXx6NHDB5Vj4"
      },
      "execution_count": null,
      "outputs": []
    },
    {
      "cell_type": "code",
      "source": [
        "fitted_values1 = model.fit(x_train, y_train,\n",
        "                          batch_size=128,\n",
        "                          epochs = 5,\n",
        "                          validation_data = (x_test, y_test),\n",
        "                          callbacks = [learning_rate_reduction])"
      ],
      "metadata": {
        "execution": {
          "iopub.status.busy": "2021-11-27T18:17:26.166975Z",
          "iopub.execute_input": "2021-11-27T18:17:26.167860Z",
          "iopub.status.idle": "2021-11-27T18:21:57.214174Z",
          "shell.execute_reply.started": "2021-11-27T18:17:26.167817Z",
          "shell.execute_reply": "2021-11-27T18:21:57.213474Z"
        },
        "trusted": true,
        "colab": {
          "base_uri": "https://localhost:8080/"
        },
        "id": "FEFezNOI5Vj4",
        "outputId": "686ddb00-78f5-4b58-c964-46efdb9622a8"
      },
      "execution_count": null,
      "outputs": [
        {
          "output_type": "stream",
          "name": "stdout",
          "text": [
            "Epoch 1/5\n",
            "215/215 [==============================] - 315s 1s/step - loss: 0.6816 - accuracy: 0.8995 - val_loss: 1.7883 - val_accuracy: 0.6154 - lr: 0.0010\n",
            "Epoch 2/5\n",
            "215/215 [==============================] - 326s 2s/step - loss: 9.6327e-04 - accuracy: 1.0000 - val_loss: 0.8906 - val_accuracy: 0.7644 - lr: 0.0010\n",
            "Epoch 3/5\n",
            "215/215 [==============================] - 324s 2s/step - loss: 2.4436e-04 - accuracy: 1.0000 - val_loss: 0.9073 - val_accuracy: 0.7764 - lr: 0.0010\n",
            "Epoch 4/5\n",
            "215/215 [==============================] - 313s 1s/step - loss: 1.0263e-04 - accuracy: 1.0000 - val_loss: 1.1352 - val_accuracy: 0.7755 - lr: 0.0010\n",
            "Epoch 5/5\n",
            "215/215 [==============================] - 379s 2s/step - loss: 4.9225e-05 - accuracy: 1.0000 - val_loss: 1.2261 - val_accuracy: 0.7769 - lr: 0.0010\n"
          ]
        }
      ]
    },
    {
      "cell_type": "code",
      "source": [
        "print(\"Accuracy of the model is - \" , model.evaluate(x_test, y_test)[1]*100 , \"%\")"
      ],
      "metadata": {
        "execution": {
          "iopub.status.busy": "2021-11-27T18:21:57.215839Z",
          "iopub.execute_input": "2021-11-27T18:21:57.216603Z",
          "iopub.status.idle": "2021-11-27T18:22:02.081567Z",
          "shell.execute_reply.started": "2021-11-27T18:21:57.216563Z",
          "shell.execute_reply": "2021-11-27T18:22:02.079987Z"
        },
        "trusted": true,
        "colab": {
          "base_uri": "https://localhost:8080/"
        },
        "id": "rkCM8qn15Vj4",
        "outputId": "6618ad01-bc8e-4432-bdee-a3df58078a03"
      },
      "execution_count": null,
      "outputs": [
        {
          "output_type": "stream",
          "name": "stdout",
          "text": [
            "225/225 [==============================] - 18s 79ms/step - loss: 1.2261 - accuracy: 0.7769\n",
            "Accuracy of the model is -  77.69101858139038 %\n"
          ]
        }
      ]
    },
    {
      "cell_type": "code",
      "source": [
        "model = Sequential()\n",
        "model.add(Conv2D(64, (3,3), strides=1, padding='same', activation='relu', input_shape=(28,28,1)))\n",
        "model.add(BatchNormalization())\n",
        "model.add(MaxPool2D((2,2) , strides = 2 , padding = 'same'))\n",
        "model.add(Conv2D(50 , (3,3) , strides = 1 , padding = 'same' , activation = 'relu'))\n",
        "model.add(Dropout(0.2))\n",
        "model.add(BatchNormalization())\n",
        "model.add(MaxPool2D((2,2) , strides = 2 , padding = 'same'))\n",
        "model.add(Conv2D(25 , (3,3) , strides = 1 , padding = 'same' , activation = 'relu'))\n",
        "model.add(BatchNormalization())\n",
        "model.add(MaxPool2D((2,2) , strides = 2 , padding = 'same'))\n",
        "model.add(Flatten())\n",
        "model.add(Dense(units = 512 , activation = 'relu'))\n",
        "model.add(Dropout(0.3))\n",
        "model.add(Dense(units = 24 , activation = 'softmax'))\n",
        "model.compile(optimizer = 'adam' , loss = 'categorical_crossentropy' , metrics = ['accuracy'])"
      ],
      "metadata": {
        "execution": {
          "iopub.status.busy": "2021-11-27T18:22:02.083401Z",
          "iopub.execute_input": "2021-11-27T18:22:02.083763Z",
          "iopub.status.idle": "2021-11-27T18:22:02.202316Z",
          "shell.execute_reply.started": "2021-11-27T18:22:02.083716Z",
          "shell.execute_reply": "2021-11-27T18:22:02.201421Z"
        },
        "trusted": true,
        "id": "6MspHnm55Vj4"
      },
      "execution_count": null,
      "outputs": []
    },
    {
      "cell_type": "code",
      "source": [
        "fitted_values2 = model.fit(x_train, y_train,\n",
        "                          batch_size=128,\n",
        "                          epochs = 5,\n",
        "                          validation_data = (x_test, y_test),\n",
        "                          callbacks = [learning_rate_reduction])"
      ],
      "metadata": {
        "execution": {
          "iopub.status.busy": "2021-11-27T18:22:02.206452Z",
          "iopub.execute_input": "2021-11-27T18:22:02.206721Z",
          "iopub.status.idle": "2021-11-27T18:24:18.791501Z",
          "shell.execute_reply.started": "2021-11-27T18:22:02.206693Z",
          "shell.execute_reply": "2021-11-27T18:24:18.790581Z"
        },
        "trusted": true,
        "colab": {
          "base_uri": "https://localhost:8080/"
        },
        "id": "y32J6sVV5Vj4",
        "outputId": "ba4892c2-591c-4a1b-e943-915cdd1b2710"
      },
      "execution_count": null,
      "outputs": [
        {
          "output_type": "stream",
          "name": "stdout",
          "text": [
            "Epoch 1/5\n",
            "215/215 [==============================] - 97s 422ms/step - loss: 0.5354 - accuracy: 0.8433 - val_loss: 2.8503 - val_accuracy: 0.0890 - lr: 0.0010\n",
            "Epoch 2/5\n",
            "215/215 [==============================] - 88s 409ms/step - loss: 0.0194 - accuracy: 0.9968 - val_loss: 0.6296 - val_accuracy: 0.8413 - lr: 0.0010\n",
            "Epoch 3/5\n",
            "215/215 [==============================] - 87s 403ms/step - loss: 0.0070 - accuracy: 0.9987 - val_loss: 0.2305 - val_accuracy: 0.9253 - lr: 0.0010\n",
            "Epoch 4/5\n",
            "215/215 [==============================] - 98s 458ms/step - loss: 0.0043 - accuracy: 0.9995 - val_loss: 0.1647 - val_accuracy: 0.9469 - lr: 0.0010\n",
            "Epoch 5/5\n",
            "215/215 [==============================] - 90s 418ms/step - loss: 0.0082 - accuracy: 0.9977 - val_loss: 0.2203 - val_accuracy: 0.9303 - lr: 0.0010\n"
          ]
        }
      ]
    },
    {
      "cell_type": "code",
      "source": [
        "print(\"Accuracy of the model is - \" , model.evaluate(x_test, y_test)[1]*100 , \"%\")"
      ],
      "metadata": {
        "execution": {
          "iopub.status.busy": "2021-11-27T18:24:18.793033Z",
          "iopub.execute_input": "2021-11-27T18:24:18.793390Z",
          "iopub.status.idle": "2021-11-27T18:24:21.393281Z",
          "shell.execute_reply.started": "2021-11-27T18:24:18.793356Z",
          "shell.execute_reply": "2021-11-27T18:24:21.392302Z"
        },
        "trusted": true,
        "colab": {
          "base_uri": "https://localhost:8080/"
        },
        "id": "P7vn8Srf5Vj4",
        "outputId": "db680c64-41a1-43ad-a716-13ecbf035b58"
      },
      "execution_count": null,
      "outputs": [
        {
          "output_type": "stream",
          "name": "stdout",
          "text": [
            "225/225 [==============================] - 5s 22ms/step - loss: 0.2203 - accuracy: 0.9303\n",
            "Accuracy of the model is -  93.02844405174255 %\n"
          ]
        }
      ]
    },
    {
      "cell_type": "markdown",
      "source": [
        "### 3.CNN + Data Augmentation"
      ],
      "metadata": {
        "id": "C6cXH6Ax5Vj5"
      }
    },
    {
      "cell_type": "code",
      "source": [
        "image_generator = ImageDataGenerator(\n",
        "    featurewise_center=False,\n",
        "    samplewise_center=False,\n",
        "    featurewise_std_normalization=False,\n",
        "    samplewise_std_normalization=False,\n",
        "    zca_whitening=False,\n",
        "    rotation_range=10,\n",
        "    zoom_range = 0.1,\n",
        "    width_shift_range=0.1,\n",
        "    height_shift_range=0.1,\n",
        "    horizontal_flip=False,\n",
        "    vertical_flip=False)\n",
        "\n",
        "\n",
        "image_generator.fit(x_train)"
      ],
      "metadata": {
        "execution": {
          "iopub.status.busy": "2021-11-27T18:24:21.394537Z",
          "iopub.execute_input": "2021-11-27T18:24:21.394781Z",
          "iopub.status.idle": "2021-11-27T18:24:21.480990Z",
          "shell.execute_reply.started": "2021-11-27T18:24:21.394752Z",
          "shell.execute_reply": "2021-11-27T18:24:21.479921Z"
        },
        "trusted": true,
        "id": "5RcQYpkD5Vj5"
      },
      "execution_count": null,
      "outputs": []
    },
    {
      "cell_type": "code",
      "source": [
        "fitted_values3 = model.fit(image_generator.flow(x_train,y_train, batch_size = 128) ,\n",
        "                    epochs = 5,\n",
        "                    validation_data = (x_test, y_test) ,\n",
        "                    callbacks = [learning_rate_reduction])"
      ],
      "metadata": {
        "execution": {
          "iopub.status.busy": "2021-11-27T18:24:21.482176Z",
          "iopub.execute_input": "2021-11-27T18:24:21.482500Z",
          "iopub.status.idle": "2021-11-27T18:27:13.482861Z",
          "shell.execute_reply.started": "2021-11-27T18:24:21.482466Z",
          "shell.execute_reply": "2021-11-27T18:27:13.481835Z"
        },
        "trusted": true,
        "colab": {
          "base_uri": "https://localhost:8080/"
        },
        "id": "oCWzcnli5Vj5",
        "outputId": "13ce3247-d01c-4921-a079-965ae0d33908"
      },
      "execution_count": null,
      "outputs": [
        {
          "output_type": "stream",
          "name": "stdout",
          "text": [
            "Epoch 1/5\n",
            "215/215 [==============================] - 103s 470ms/step - loss: 0.3101 - accuracy: 0.9051 - val_loss: 0.0664 - val_accuracy: 0.9760 - lr: 0.0010\n",
            "Epoch 2/5\n",
            "215/215 [==============================] - 101s 470ms/step - loss: 0.0801 - accuracy: 0.9737 - val_loss: 0.0872 - val_accuracy: 0.9721 - lr: 0.0010\n",
            "Epoch 3/5\n",
            "215/215 [==============================] - 101s 467ms/step - loss: 0.0484 - accuracy: 0.9845 - val_loss: 0.0396 - val_accuracy: 0.9904 - lr: 0.0010\n",
            "Epoch 4/5\n",
            "215/215 [==============================] - 105s 486ms/step - loss: 0.0318 - accuracy: 0.9895 - val_loss: 0.0125 - val_accuracy: 0.9958 - lr: 0.0010\n",
            "Epoch 5/5\n",
            "215/215 [==============================] - 99s 460ms/step - loss: 0.0321 - accuracy: 0.9892 - val_loss: 0.0160 - val_accuracy: 0.9932 - lr: 0.0010\n"
          ]
        }
      ]
    },
    {
      "cell_type": "code",
      "source": [
        "print(\"Accuracy of the model with data augmentation is - \" , model.evaluate(x_test,y_test)[1]*100 , \"%\")"
      ],
      "metadata": {
        "execution": {
          "iopub.status.busy": "2021-11-27T18:27:13.484680Z",
          "iopub.execute_input": "2021-11-27T18:27:13.485023Z",
          "iopub.status.idle": "2021-11-27T18:27:16.122227Z",
          "shell.execute_reply.started": "2021-11-27T18:27:13.484978Z",
          "shell.execute_reply": "2021-11-27T18:27:16.121035Z"
        },
        "trusted": true,
        "colab": {
          "base_uri": "https://localhost:8080/"
        },
        "id": "h1TcQg5R5Vj5",
        "outputId": "0f946111-69dd-4288-d946-de0e1d8abb32"
      },
      "execution_count": null,
      "outputs": [
        {
          "output_type": "stream",
          "name": "stdout",
          "text": [
            "225/225 [==============================] - 7s 30ms/step - loss: 0.0160 - accuracy: 0.9932\n",
            "Accuracy of the model with data augmentation is -  99.31678771972656 %\n"
          ]
        }
      ]
    },
    {
      "cell_type": "markdown",
      "source": [
        "### 4. CNN Model Valuation\n",
        "\n"
      ],
      "metadata": {
        "id": "jlDdHYRu5Vj5"
      }
    },
    {
      "cell_type": "code",
      "source": [
        "model = Sequential()\n",
        "model.add(Conv2D(64, (3,3), strides=1, padding='same', activation='relu', input_shape=(28,28,1)))\n",
        "model.add(BatchNormalization())\n",
        "model.add(MaxPool2D((2,2) , strides = 2 , padding = 'same'))\n",
        "model.add(Conv2D(50 , (3,3) , strides = 1 , padding = 'same' , activation = 'relu'))\n",
        "model.add(Dropout(0.2))\n",
        "model.add(BatchNormalization())\n",
        "model.add(MaxPool2D((2,2) , strides = 2 , padding = 'same'))\n",
        "model.add(Conv2D(25 , (3,3) , strides = 1 , padding = 'same' , activation = 'relu'))\n",
        "model.add(BatchNormalization())\n",
        "model.add(MaxPool2D((2,2) , strides = 2 , padding = 'same'))\n",
        "model.add(Flatten())\n",
        "model.add(Dense(units = 512 , activation = 'relu'))\n",
        "model.add(Dense(units = 24 , activation = 'softmax'))\n",
        "model.compile(optimizer = 'adam' , loss = 'categorical_crossentropy' , metrics = ['accuracy'])"
      ],
      "metadata": {
        "execution": {
          "iopub.status.busy": "2021-11-27T18:27:16.244959Z",
          "iopub.execute_input": "2021-11-27T18:27:16.245401Z",
          "iopub.status.idle": "2021-11-27T18:27:16.364615Z",
          "shell.execute_reply.started": "2021-11-27T18:27:16.245365Z",
          "shell.execute_reply": "2021-11-27T18:27:16.363921Z"
        },
        "trusted": true,
        "id": "nHFl7ldZ5Vj5"
      },
      "execution_count": null,
      "outputs": []
    },
    {
      "cell_type": "code",
      "source": [
        "fitted_values4 = model.fit(image_generator.flow(x_train,y_train, batch_size = 128),\n",
        "                           epochs = 20,\n",
        "                           validation_data = (x_test, y_test) ,\n",
        "                           callbacks = [learning_rate_reduction])"
      ],
      "metadata": {
        "execution": {
          "iopub.status.busy": "2021-11-27T18:27:16.366074Z",
          "iopub.execute_input": "2021-11-27T18:27:16.366534Z",
          "iopub.status.idle": "2021-11-27T18:38:33.625268Z",
          "shell.execute_reply.started": "2021-11-27T18:27:16.366475Z",
          "shell.execute_reply": "2021-11-27T18:38:33.624128Z"
        },
        "trusted": true,
        "colab": {
          "base_uri": "https://localhost:8080/"
        },
        "id": "BMvDQBQs5Vj5",
        "outputId": "8f394557-4da6-4a0b-bcf2-c3d17be52b4b"
      },
      "execution_count": null,
      "outputs": [
        {
          "output_type": "stream",
          "name": "stdout",
          "text": [
            "Epoch 1/20\n",
            "215/215 [==============================] - 98s 449ms/step - loss: 0.8334 - accuracy: 0.7408 - val_loss: 3.4509 - val_accuracy: 0.0715 - lr: 0.0010\n",
            "Epoch 2/20\n",
            "215/215 [==============================] - 98s 457ms/step - loss: 0.1349 - accuracy: 0.9572 - val_loss: 1.4661 - val_accuracy: 0.5321 - lr: 0.0010\n",
            "Epoch 3/20\n",
            "215/215 [==============================] - 96s 446ms/step - loss: 0.0658 - accuracy: 0.9798 - val_loss: 0.0778 - val_accuracy: 0.9788 - lr: 0.0010\n",
            "Epoch 4/20\n",
            "215/215 [==============================] - 95s 442ms/step - loss: 0.0388 - accuracy: 0.9888 - val_loss: 0.0957 - val_accuracy: 0.9656 - lr: 0.0010\n",
            "Epoch 5/20\n",
            "215/215 [==============================] - ETA: 0s - loss: 0.0319 - accuracy: 0.9906\n",
            "Epoch 5: ReduceLROnPlateau reducing learning rate to 0.0005000000237487257.\n",
            "215/215 [==============================] - 102s 476ms/step - loss: 0.0319 - accuracy: 0.9906 - val_loss: 0.1278 - val_accuracy: 0.9526 - lr: 0.0010\n",
            "Epoch 6/20\n",
            "215/215 [==============================] - 116s 540ms/step - loss: 0.0146 - accuracy: 0.9960 - val_loss: 0.0104 - val_accuracy: 0.9974 - lr: 5.0000e-04\n",
            "Epoch 7/20\n",
            "215/215 [==============================] - 105s 490ms/step - loss: 0.0095 - accuracy: 0.9974 - val_loss: 0.0041 - val_accuracy: 0.9996 - lr: 5.0000e-04\n",
            "Epoch 8/20\n",
            "215/215 [==============================] - 97s 449ms/step - loss: 0.0078 - accuracy: 0.9979 - val_loss: 0.0072 - val_accuracy: 0.9974 - lr: 5.0000e-04\n",
            "Epoch 9/20\n",
            "215/215 [==============================] - ETA: 0s - loss: 0.0091 - accuracy: 0.9976\n",
            "Epoch 9: ReduceLROnPlateau reducing learning rate to 0.0002500000118743628.\n",
            "215/215 [==============================] - 101s 472ms/step - loss: 0.0091 - accuracy: 0.9976 - val_loss: 0.0091 - val_accuracy: 0.9971 - lr: 5.0000e-04\n",
            "Epoch 10/20\n",
            "215/215 [==============================] - 100s 468ms/step - loss: 0.0062 - accuracy: 0.9987 - val_loss: 0.0023 - val_accuracy: 0.9999 - lr: 2.5000e-04\n",
            "Epoch 11/20\n",
            "215/215 [==============================] - 98s 458ms/step - loss: 0.0043 - accuracy: 0.9992 - val_loss: 0.0057 - val_accuracy: 0.9972 - lr: 2.5000e-04\n",
            "Epoch 12/20\n",
            "215/215 [==============================] - ETA: 0s - loss: 0.0043 - accuracy: 0.9988\n",
            "Epoch 12: ReduceLROnPlateau reducing learning rate to 0.0001250000059371814.\n",
            "215/215 [==============================] - 96s 448ms/step - loss: 0.0043 - accuracy: 0.9988 - val_loss: 0.0025 - val_accuracy: 0.9999 - lr: 2.5000e-04\n",
            "Epoch 13/20\n",
            "215/215 [==============================] - 97s 452ms/step - loss: 0.0035 - accuracy: 0.9992 - val_loss: 0.0015 - val_accuracy: 1.0000 - lr: 1.2500e-04\n",
            "Epoch 14/20\n",
            "215/215 [==============================] - 97s 451ms/step - loss: 0.0029 - accuracy: 0.9993 - val_loss: 0.0062 - val_accuracy: 0.9972 - lr: 1.2500e-04\n",
            "Epoch 15/20\n",
            "215/215 [==============================] - ETA: 0s - loss: 0.0029 - accuracy: 0.9995\n",
            "Epoch 15: ReduceLROnPlateau reducing learning rate to 6.25000029685907e-05.\n",
            "215/215 [==============================] - 102s 474ms/step - loss: 0.0029 - accuracy: 0.9995 - val_loss: 0.0026 - val_accuracy: 0.9989 - lr: 1.2500e-04\n",
            "Epoch 16/20\n",
            "215/215 [==============================] - 95s 442ms/step - loss: 0.0024 - accuracy: 0.9995 - val_loss: 0.0030 - val_accuracy: 0.9985 - lr: 6.2500e-05\n",
            "Epoch 17/20\n",
            "215/215 [==============================] - ETA: 0s - loss: 0.0022 - accuracy: 0.9997\n",
            "Epoch 17: ReduceLROnPlateau reducing learning rate to 3.125000148429535e-05.\n",
            "215/215 [==============================] - 98s 454ms/step - loss: 0.0022 - accuracy: 0.9997 - val_loss: 0.0016 - val_accuracy: 0.9997 - lr: 6.2500e-05\n",
            "Epoch 18/20\n",
            "215/215 [==============================] - 97s 453ms/step - loss: 0.0024 - accuracy: 0.9997 - val_loss: 0.0014 - val_accuracy: 0.9996 - lr: 3.1250e-05\n",
            "Epoch 19/20\n",
            "215/215 [==============================] - ETA: 0s - loss: 0.0020 - accuracy: 0.9997\n",
            "Epoch 19: ReduceLROnPlateau reducing learning rate to 1.5625000742147677e-05.\n",
            "215/215 [==============================] - 96s 445ms/step - loss: 0.0020 - accuracy: 0.9997 - val_loss: 0.0016 - val_accuracy: 0.9997 - lr: 3.1250e-05\n",
            "Epoch 20/20\n",
            "215/215 [==============================] - 103s 479ms/step - loss: 0.0021 - accuracy: 0.9996 - val_loss: 0.0014 - val_accuracy: 0.9999 - lr: 1.5625e-05\n"
          ]
        }
      ]
    },
    {
      "cell_type": "code",
      "source": [
        "print(\"Accuracy of the model with data augmentation is  - \" , model.evaluate(x_test, y_test)[1]*100 , \"%\")"
      ],
      "metadata": {
        "execution": {
          "iopub.status.busy": "2021-11-27T18:38:33.627176Z",
          "iopub.execute_input": "2021-11-27T18:38:33.627539Z",
          "iopub.status.idle": "2021-11-27T18:38:36.202913Z",
          "shell.execute_reply.started": "2021-11-27T18:38:33.627477Z",
          "shell.execute_reply": "2021-11-27T18:38:36.202138Z"
        },
        "trusted": true,
        "colab": {
          "base_uri": "https://localhost:8080/"
        },
        "id": "kk9T1pEE5Vj5",
        "outputId": "4bc0fbf8-3a9d-4b73-db82-d8203ca38a73"
      },
      "execution_count": null,
      "outputs": [
        {
          "output_type": "stream",
          "name": "stdout",
          "text": [
            "225/225 [==============================] - 6s 25ms/step - loss: 0.0014 - accuracy: 0.9999\n",
            "Accuracy of the model with data augmentation is  -  99.98605847358704 %\n"
          ]
        }
      ]
    },
    {
      "cell_type": "markdown",
      "source": [
        "### Analysis"
      ],
      "metadata": {
        "id": "_VjsdrTB5Vj5"
      }
    },
    {
      "cell_type": "code",
      "source": [
        "epochs = [i for i in range(20)]\n",
        "fig , ax = plt.subplots(1,2)\n",
        "train_acc = fitted_values4.history['accuracy']\n",
        "train_loss = fitted_values4.history['loss']\n",
        "val_acc = fitted_values4.history['val_accuracy']\n",
        "val_loss = fitted_values4.history['val_loss']\n",
        "fig.set_size_inches(16,9)\n",
        "\n",
        "ax[0].plot(epochs , train_acc , 'go-' , label = 'Training Accuracy')\n",
        "ax[0].plot(epochs , val_acc , 'ro-' , label = 'Testing Accuracy')\n",
        "ax[0].set_title('Training & Validation Accuracy')\n",
        "ax[0].legend()\n",
        "ax[0].set_xlabel(\"Epochs\")\n",
        "ax[0].set_ylabel(\"Accuracy\")\n",
        "\n",
        "ax[1].plot(epochs , train_loss , 'g-o' , label = 'Training Loss')\n",
        "ax[1].plot(epochs , val_loss , 'r-o' , label = 'Testing Loss')\n",
        "ax[1].set_title('Testing Accuracy & Loss')\n",
        "ax[1].legend()\n",
        "ax[1].set_xlabel(\"Epochs\")\n",
        "ax[1].set_ylabel(\"Loss\")\n",
        "plt.show()"
      ],
      "metadata": {
        "execution": {
          "iopub.status.busy": "2021-11-27T18:51:30.705031Z",
          "iopub.execute_input": "2021-11-27T18:51:30.705353Z",
          "iopub.status.idle": "2021-11-27T18:51:31.131217Z",
          "shell.execute_reply.started": "2021-11-27T18:51:30.705317Z",
          "shell.execute_reply": "2021-11-27T18:51:31.130226Z"
        },
        "trusted": true,
        "colab": {
          "base_uri": "https://localhost:8080/",
          "height": 677
        },
        "id": "kw1okFtc5Vj5",
        "outputId": "f4b349db-9eb3-4812-a6ff-a97ddf6ce52c"
      },
      "execution_count": null,
      "outputs": [
        {
          "output_type": "display_data",
          "data": {
            "text/plain": [
              "<Figure size 1600x900 with 2 Axes>"
            ],
            "image/png": "[encoded data removed]"
          },
          "metadata": {}
        }
      ]
    },
    {
      "cell_type": "code",
      "source": [
        "#from tensorflow.keras.models import load_model\n",
        "\n",
        "model.save(\"/content/drive/MyDrive/computer_vision/sign_language_cnn_model.h5\")\n",
        "\n",
        "#model.save(\"sign_language_cnn_model\")"
      ],
      "metadata": {
        "execution": {
          "iopub.status.busy": "2021-11-27T18:59:12.623901Z",
          "iopub.execute_input": "2021-11-27T18:59:12.624192Z",
          "iopub.status.idle": "2021-11-27T18:59:14.896366Z",
          "shell.execute_reply.started": "2021-11-27T18:59:12.624163Z",
          "shell.execute_reply": "2021-11-27T18:59:14.895359Z"
        },
        "trusted": true,
        "colab": {
          "base_uri": "https://localhost:8080/"
        },
        "id": "zkZjq4WZ5Vj6",
        "outputId": "f8111e85-adb3-41a3-a781-806738e072b6"
      },
      "execution_count": null,
      "outputs": [
        {
          "output_type": "stream",
          "name": "stderr",
          "text": [
            "/usr/local/lib/python3.10/dist-packages/keras/src/engine/training.py:3103: UserWarning: You are saving your model as an HDF5 file via `model.save()`. This file format is considered legacy. We recommend using instead the native Keras format, e.g. `model.save('my_model.keras')`.\n",
            "  saving_api.save_model(\n"
          ]
        }
      ]
    },
    {
      "cell_type": "code",
      "source": [
        "from sklearn.metrics import classification_report\n",
        "\n",
        "# Load the saved model\n",
        "model = tf.keras.models.load_model('/content/drive/MyDrive/computer_vision/sign_language_cnn_model.h5')"
      ],
      "metadata": {
        "id": "Hpx5v9AKKpOr"
      },
      "execution_count": null,
      "outputs": []
    },
    {
      "cell_type": "code",
      "source": [
        "predictions = model.predict(x_test)"
      ],
      "metadata": {
        "colab": {
          "base_uri": "https://localhost:8080/"
        },
        "id": "q7bXqKuzK0wr",
        "outputId": "b76d059c-0b27-4d77-cb2e-8fea651c8515"
      },
      "execution_count": null,
      "outputs": [
        {
          "output_type": "stream",
          "name": "stdout",
          "text": [
            "225/225 [==============================] - 10s 42ms/step\n"
          ]
        }
      ]
    },
    {
      "cell_type": "code",
      "source": [
        "y_test_flat = np.argmax(y_test, axis=1)"
      ],
      "metadata": {
        "id": "3jRBEiG0K8lK"
      },
      "execution_count": null,
      "outputs": []
    },
    {
      "cell_type": "code",
      "source": [
        "print(classification_report(y_test_flat, predicted_labels))"
      ],
      "metadata": {
        "id": "zo_U3JC7L8Np",
        "outputId": "c29870ee-902b-4b5e-d1bb-e016f01c9f70",
        "colab": {
          "base_uri": "https://localhost:8080/"
        }
      },
      "execution_count": null,
      "outputs": [
        {
          "output_type": "stream",
          "name": "stdout",
          "text": [
            "              precision    recall  f1-score   support\n",
            "\n",
            "           0       1.00      1.00      1.00       331\n",
            "           1       1.00      1.00      1.00       432\n",
            "           2       1.00      1.00      1.00       310\n",
            "           3       1.00      1.00      1.00       245\n",
            "           4       1.00      1.00      1.00       498\n",
            "           5       1.00      1.00      1.00       247\n",
            "           6       1.00      1.00      1.00       348\n",
            "           7       1.00      1.00      1.00       436\n",
            "           8       1.00      1.00      1.00       288\n",
            "           9       1.00      1.00      1.00       331\n",
            "          10       1.00      1.00      1.00       209\n",
            "          11       1.00      1.00      1.00       394\n",
            "          12       1.00      1.00      1.00       291\n",
            "          13       1.00      1.00      1.00       246\n",
            "          14       1.00      1.00      1.00       347\n",
            "          15       1.00      1.00      1.00       164\n",
            "          16       1.00      1.00      1.00       144\n",
            "          17       1.00      1.00      1.00       246\n",
            "          18       1.00      1.00      1.00       248\n",
            "          19       1.00      1.00      1.00       266\n",
            "          20       1.00      1.00      1.00       346\n",
            "          21       1.00      1.00      1.00       206\n",
            "          22       1.00      1.00      1.00       267\n",
            "          23       1.00      1.00      1.00       332\n",
            "\n",
            "    accuracy                           1.00      7172\n",
            "   macro avg       1.00      1.00      1.00      7172\n",
            "weighted avg       1.00      1.00      1.00      7172\n",
            "\n"
          ]
        }
      ]
    }
  ]
}